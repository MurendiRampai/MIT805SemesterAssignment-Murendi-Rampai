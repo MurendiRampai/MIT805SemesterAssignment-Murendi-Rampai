{
 "cells": [
  {
   "cell_type": "code",
   "execution_count": 1,
   "id": "e9c25993",
   "metadata": {},
   "outputs": [],
   "source": [
    "import gzip\n",
    "import csv\n",
    "import json\n",
    "import pandas as pd"
   ]
  },
  {
   "cell_type": "code",
   "execution_count": 2,
   "id": "bb421909",
   "metadata": {},
   "outputs": [],
   "source": [
    "df = pd.read_csv('Processed_Data.csv.gz', compression='gzip', header=0,    sep=',', quotechar='\"')"
   ]
  },
  {
   "cell_type": "code",
   "execution_count": 3,
   "id": "075f5266",
   "metadata": {},
   "outputs": [
    {
     "data": {
      "text/html": [
       "<div>\n",
       "<style scoped>\n",
       "    .dataframe tbody tr th:only-of-type {\n",
       "        vertical-align: middle;\n",
       "    }\n",
       "\n",
       "    .dataframe tbody tr th {\n",
       "        vertical-align: top;\n",
       "    }\n",
       "\n",
       "    .dataframe thead th {\n",
       "        text-align: right;\n",
       "    }\n",
       "</style>\n",
       "<table border=\"1\" class=\"dataframe\">\n",
       "  <thead>\n",
       "    <tr style=\"text-align: right;\">\n",
       "      <th></th>\n",
       "      <th>event_time</th>\n",
       "      <th>event_type</th>\n",
       "      <th>product_id</th>\n",
       "      <th>category_id</th>\n",
       "      <th>brand</th>\n",
       "      <th>price</th>\n",
       "      <th>user_id</th>\n",
       "      <th>user_session</th>\n",
       "      <th>Main_category_code</th>\n",
       "      <th>day</th>\n",
       "      <th>hour</th>\n",
       "      <th>day_of_week</th>\n",
       "    </tr>\n",
       "  </thead>\n",
       "  <tbody>\n",
       "    <tr>\n",
       "      <th>0</th>\n",
       "      <td>2019-10-01 00:00:00</td>\n",
       "      <td>view</td>\n",
       "      <td>44600062</td>\n",
       "      <td>2103807459595387724</td>\n",
       "      <td>shiseido</td>\n",
       "      <td>35.79</td>\n",
       "      <td>541312140</td>\n",
       "      <td>72d76fde-8bb3-4e00-8c23-a032dfed738c</td>\n",
       "      <td>unknown</td>\n",
       "      <td>1</td>\n",
       "      <td>0</td>\n",
       "      <td>Tuesday</td>\n",
       "    </tr>\n",
       "    <tr>\n",
       "      <th>1</th>\n",
       "      <td>2019-10-01 00:00:00</td>\n",
       "      <td>view</td>\n",
       "      <td>3900821</td>\n",
       "      <td>2053013552326770905</td>\n",
       "      <td>aqua</td>\n",
       "      <td>33.20</td>\n",
       "      <td>554748717</td>\n",
       "      <td>9333dfbd-b87a-4708-9857-6336556b0fcc</td>\n",
       "      <td>appliances</td>\n",
       "      <td>1</td>\n",
       "      <td>0</td>\n",
       "      <td>Tuesday</td>\n",
       "    </tr>\n",
       "    <tr>\n",
       "      <th>2</th>\n",
       "      <td>2019-10-01 00:00:01</td>\n",
       "      <td>view</td>\n",
       "      <td>17200506</td>\n",
       "      <td>2053013559792632471</td>\n",
       "      <td>unknown</td>\n",
       "      <td>543.10</td>\n",
       "      <td>519107250</td>\n",
       "      <td>566511c2-e2e3-422b-b695-cf8e6e792ca8</td>\n",
       "      <td>furniture</td>\n",
       "      <td>1</td>\n",
       "      <td>0</td>\n",
       "      <td>Tuesday</td>\n",
       "    </tr>\n",
       "    <tr>\n",
       "      <th>3</th>\n",
       "      <td>2019-10-01 00:00:01</td>\n",
       "      <td>view</td>\n",
       "      <td>1307067</td>\n",
       "      <td>2053013558920217191</td>\n",
       "      <td>lenovo</td>\n",
       "      <td>251.74</td>\n",
       "      <td>550050854</td>\n",
       "      <td>7c90fc70-0e80-4590-96f3-13c02c18c713</td>\n",
       "      <td>computers</td>\n",
       "      <td>1</td>\n",
       "      <td>0</td>\n",
       "      <td>Tuesday</td>\n",
       "    </tr>\n",
       "    <tr>\n",
       "      <th>4</th>\n",
       "      <td>2019-10-01 00:00:04</td>\n",
       "      <td>view</td>\n",
       "      <td>1004237</td>\n",
       "      <td>2053013555631882655</td>\n",
       "      <td>apple</td>\n",
       "      <td>1081.98</td>\n",
       "      <td>535871217</td>\n",
       "      <td>c6bd7419-2748-4c56-95b4-8cec9ff8b80d</td>\n",
       "      <td>electronics</td>\n",
       "      <td>1</td>\n",
       "      <td>0</td>\n",
       "      <td>Tuesday</td>\n",
       "    </tr>\n",
       "  </tbody>\n",
       "</table>\n",
       "</div>"
      ],
      "text/plain": [
       "            event_time event_type  product_id          category_id     brand  \\\n",
       "0  2019-10-01 00:00:00       view    44600062  2103807459595387724  shiseido   \n",
       "1  2019-10-01 00:00:00       view     3900821  2053013552326770905      aqua   \n",
       "2  2019-10-01 00:00:01       view    17200506  2053013559792632471   unknown   \n",
       "3  2019-10-01 00:00:01       view     1307067  2053013558920217191    lenovo   \n",
       "4  2019-10-01 00:00:04       view     1004237  2053013555631882655     apple   \n",
       "\n",
       "     price    user_id                          user_session  \\\n",
       "0    35.79  541312140  72d76fde-8bb3-4e00-8c23-a032dfed738c   \n",
       "1    33.20  554748717  9333dfbd-b87a-4708-9857-6336556b0fcc   \n",
       "2   543.10  519107250  566511c2-e2e3-422b-b695-cf8e6e792ca8   \n",
       "3   251.74  550050854  7c90fc70-0e80-4590-96f3-13c02c18c713   \n",
       "4  1081.98  535871217  c6bd7419-2748-4c56-95b4-8cec9ff8b80d   \n",
       "\n",
       "  Main_category_code  day  hour day_of_week  \n",
       "0            unknown    1     0     Tuesday  \n",
       "1         appliances    1     0     Tuesday  \n",
       "2          furniture    1     0     Tuesday  \n",
       "3          computers    1     0     Tuesday  \n",
       "4        electronics    1     0     Tuesday  "
      ]
     },
     "execution_count": 3,
     "metadata": {},
     "output_type": "execute_result"
    }
   ],
   "source": [
    "df.head()"
   ]
  },
  {
   "cell_type": "code",
   "execution_count": 4,
   "id": "3ed3d5e8",
   "metadata": {},
   "outputs": [
    {
     "data": {
      "text/plain": [
       "array(['event_time', 'event_type', 'product_id', 'category_id', 'brand',\n",
       "       'price', 'user_id', 'user_session', 'Main_category_code', 'day',\n",
       "       'hour', 'day_of_week'], dtype=object)"
      ]
     },
     "execution_count": 4,
     "metadata": {},
     "output_type": "execute_result"
    }
   ],
   "source": [
    "df.columns.values"
   ]
  },
  {
   "cell_type": "code",
   "execution_count": 3,
   "id": "79cbefe4",
   "metadata": {},
   "outputs": [
    {
     "data": {
      "text/plain": [
       "(42448764, 12)"
      ]
     },
     "execution_count": 3,
     "metadata": {},
     "output_type": "execute_result"
    }
   ],
   "source": [
    "df.shape"
   ]
  },
  {
   "cell_type": "code",
   "execution_count": 20,
   "id": "98ba8c38",
   "metadata": {},
   "outputs": [],
   "source": [
    "df2 = df.loc[15000000:20000000,['event_time', 'event_type', 'product_id', 'brand',\n",
    "       'price', 'user_id', 'user_session', 'Main_category_code', 'day',\n",
    "       'hour', 'day_of_week']]"
   ]
  },
  {
   "cell_type": "code",
   "execution_count": 17,
   "id": "eca25ce2",
   "metadata": {},
   "outputs": [
    {
     "name": "stdout",
     "output_type": "stream",
     "text": [
      "<class 'pandas.core.frame.DataFrame'>\n",
      "RangeIndex: 5000001 entries, 20000000 to 25000000\n",
      "Data columns (total 11 columns):\n",
      " #   Column              Dtype  \n",
      "---  ------              -----  \n",
      " 0   event_time          object \n",
      " 1   event_type          object \n",
      " 2   product_id          int64  \n",
      " 3   brand               object \n",
      " 4   price               float64\n",
      " 5   user_id             int64  \n",
      " 6   user_session        object \n",
      " 7   Main_category_code  object \n",
      " 8   day                 int64  \n",
      " 9   hour                int64  \n",
      " 10  day_of_week         object \n",
      "dtypes: float64(1), int64(4), object(6)\n",
      "memory usage: 419.6+ MB\n"
     ]
    }
   ],
   "source": [
    "df2.info()"
   ]
  },
  {
   "cell_type": "code",
   "execution_count": 23,
   "id": "dbe4a384",
   "metadata": {},
   "outputs": [
    {
     "name": "stdout",
     "output_type": "stream",
     "text": [
      "5000000\n",
      "10000000\n",
      "15000000\n",
      "20000000\n",
      "25000000\n",
      "30000000\n",
      "35000000\n",
      "40000000\n",
      "45000000\n"
     ]
    }
   ],
   "source": [
    "#inds = [5000000, 10000000, 15000000, 20000000, 25000000, 30000000, 35000000, 40000000]\n",
    "strt = 0\n",
    "while strt <= 40000000:\n",
    "    df2 = df.loc[strt:strt+5000000,['event_time', 'event_type', 'product_id', 'brand',\n",
    "       'price', 'user_id', 'user_session', 'Main_category_code', 'day',\n",
    "       'hour', 'day_of_week']]\n",
    "    df2.to_csv('dfp' + str(strt) + '.csv.gz', index=True, compression='gzip')\n",
    "    \n",
    "    strt += 5000000\n",
    "    \n",
    "    print(strt)"
   ]
  },
  {
   "cell_type": "code",
   "execution_count": 25,
   "id": "ba1c3d77",
   "metadata": {},
   "outputs": [
    {
     "data": {
      "text/html": [
       "<div>\n",
       "<style scoped>\n",
       "    .dataframe tbody tr th:only-of-type {\n",
       "        vertical-align: middle;\n",
       "    }\n",
       "\n",
       "    .dataframe tbody tr th {\n",
       "        vertical-align: top;\n",
       "    }\n",
       "\n",
       "    .dataframe thead th {\n",
       "        text-align: right;\n",
       "    }\n",
       "</style>\n",
       "<table border=\"1\" class=\"dataframe\">\n",
       "  <thead>\n",
       "    <tr style=\"text-align: right;\">\n",
       "      <th></th>\n",
       "      <th>event_time</th>\n",
       "      <th>event_type</th>\n",
       "      <th>product_id</th>\n",
       "      <th>brand</th>\n",
       "      <th>price</th>\n",
       "      <th>user_id</th>\n",
       "      <th>user_session</th>\n",
       "      <th>Main_category_code</th>\n",
       "      <th>day</th>\n",
       "      <th>hour</th>\n",
       "      <th>day_of_week</th>\n",
       "    </tr>\n",
       "  </thead>\n",
       "  <tbody>\n",
       "    <tr>\n",
       "      <th>42448759</th>\n",
       "      <td>2019-10-31 23:59:58</td>\n",
       "      <td>view</td>\n",
       "      <td>2300275</td>\n",
       "      <td>gopro</td>\n",
       "      <td>527.40</td>\n",
       "      <td>537931532</td>\n",
       "      <td>22c57267-da98-4f28-9a9c-18bb5b385193</td>\n",
       "      <td>electronics</td>\n",
       "      <td>31</td>\n",
       "      <td>23</td>\n",
       "      <td>Thursday</td>\n",
       "    </tr>\n",
       "    <tr>\n",
       "      <th>42448760</th>\n",
       "      <td>2019-10-31 23:59:58</td>\n",
       "      <td>view</td>\n",
       "      <td>10800172</td>\n",
       "      <td>redmond</td>\n",
       "      <td>61.75</td>\n",
       "      <td>527322328</td>\n",
       "      <td>5054190a-46cb-4211-a8f1-16fc1a060ed8</td>\n",
       "      <td>unknown</td>\n",
       "      <td>31</td>\n",
       "      <td>23</td>\n",
       "      <td>Thursday</td>\n",
       "    </tr>\n",
       "    <tr>\n",
       "      <th>42448761</th>\n",
       "      <td>2019-10-31 23:59:58</td>\n",
       "      <td>view</td>\n",
       "      <td>5701038</td>\n",
       "      <td>kenwood</td>\n",
       "      <td>128.70</td>\n",
       "      <td>566280422</td>\n",
       "      <td>05b6c62b-992f-4e8e-91f7-961bcb4719cd</td>\n",
       "      <td>auto</td>\n",
       "      <td>31</td>\n",
       "      <td>23</td>\n",
       "      <td>Thursday</td>\n",
       "    </tr>\n",
       "    <tr>\n",
       "      <th>42448762</th>\n",
       "      <td>2019-10-31 23:59:59</td>\n",
       "      <td>view</td>\n",
       "      <td>21407424</td>\n",
       "      <td>tissot</td>\n",
       "      <td>689.85</td>\n",
       "      <td>513118352</td>\n",
       "      <td>4c14bf2a-2820-4504-929d-046356a5a204</td>\n",
       "      <td>electronics</td>\n",
       "      <td>31</td>\n",
       "      <td>23</td>\n",
       "      <td>Thursday</td>\n",
       "    </tr>\n",
       "    <tr>\n",
       "      <th>42448763</th>\n",
       "      <td>2019-10-31 23:59:59</td>\n",
       "      <td>view</td>\n",
       "      <td>13300120</td>\n",
       "      <td>swisshome</td>\n",
       "      <td>155.73</td>\n",
       "      <td>525266378</td>\n",
       "      <td>6e57d2d7-6022-46e6-81d6-fa77f14cefd8</td>\n",
       "      <td>unknown</td>\n",
       "      <td>31</td>\n",
       "      <td>23</td>\n",
       "      <td>Thursday</td>\n",
       "    </tr>\n",
       "  </tbody>\n",
       "</table>\n",
       "</div>"
      ],
      "text/plain": [
       "                   event_time event_type  product_id      brand   price  \\\n",
       "42448759  2019-10-31 23:59:58       view     2300275      gopro  527.40   \n",
       "42448760  2019-10-31 23:59:58       view    10800172    redmond   61.75   \n",
       "42448761  2019-10-31 23:59:58       view     5701038    kenwood  128.70   \n",
       "42448762  2019-10-31 23:59:59       view    21407424     tissot  689.85   \n",
       "42448763  2019-10-31 23:59:59       view    13300120  swisshome  155.73   \n",
       "\n",
       "            user_id                          user_session Main_category_code  \\\n",
       "42448759  537931532  22c57267-da98-4f28-9a9c-18bb5b385193        electronics   \n",
       "42448760  527322328  5054190a-46cb-4211-a8f1-16fc1a060ed8            unknown   \n",
       "42448761  566280422  05b6c62b-992f-4e8e-91f7-961bcb4719cd               auto   \n",
       "42448762  513118352  4c14bf2a-2820-4504-929d-046356a5a204        electronics   \n",
       "42448763  525266378  6e57d2d7-6022-46e6-81d6-fa77f14cefd8            unknown   \n",
       "\n",
       "          day  hour day_of_week  \n",
       "42448759   31    23    Thursday  \n",
       "42448760   31    23    Thursday  \n",
       "42448761   31    23    Thursday  \n",
       "42448762   31    23    Thursday  \n",
       "42448763   31    23    Thursday  "
      ]
     },
     "execution_count": 25,
     "metadata": {},
     "output_type": "execute_result"
    }
   ],
   "source": [
    "df2.tail()"
   ]
  }
 ],
 "metadata": {
  "kernelspec": {
   "display_name": "Python 3 (ipykernel)",
   "language": "python",
   "name": "python3"
  },
  "language_info": {
   "codemirror_mode": {
    "name": "ipython",
    "version": 3
   },
   "file_extension": ".py",
   "mimetype": "text/x-python",
   "name": "python",
   "nbconvert_exporter": "python",
   "pygments_lexer": "ipython3",
   "version": "3.10.9"
  }
 },
 "nbformat": 4,
 "nbformat_minor": 5
}
